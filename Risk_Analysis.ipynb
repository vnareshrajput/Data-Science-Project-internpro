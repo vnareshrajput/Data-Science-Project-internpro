{
 "cells": [
  {
   "cell_type": "markdown",
   "metadata": {
    "id": "zw8H3WKfc3ys"
   },
   "source": [
    "**Prediction Theory for Health Risk Prediction**"
   ]
  },
  {
   "cell_type": "markdown",
   "metadata": {
    "id": "nmkBwhQSdANt"
   },
   "source": [
    "**1. Problem Statement**"
   ]
  },
  {
   "cell_type": "markdown",
   "metadata": {
    "id": "tHHdeL5kdD3I"
   },
   "source": [
    "The aim of this project is to predict the health risk level of different countries based on various health indicators such as mortality rates, HIV prevalence, tuberculosis, undernourishment, healthcare spending, and life expectancy. Instead of predicting a specific disease or number, we classify countries into Low, Medium, or High Risk based on a computed **risk_score.**"
   ]
  },
  {
   "cell_type": "markdown",
   "metadata": {
    "id": "zydmx9PpdJAU"
   },
   "source": [
    "**2. Risk Score Formulation**"
   ]
  },
  {
   "cell_type": "markdown",
   "metadata": {
    "id": "PtIiQLRZdMga"
   },
   "source": [
    "The **risk_score** is a domain-informed linear combination of key health indicators:"
   ]
  },
  {
   "cell_type": "markdown",
   "metadata": {
    "id": "cyzCFQm_dO_i"
   },
   "source": [
    "**risk_score= Maternal Mortality + Infant Mortality + Neonatal Mortality+ Under-5 Mortality + 2×HIV Prevalence + Tuberculosis+ Undernourishment − Life Expectancy − 2 × Health Expenditure**"
   ]
  },
  {
   "cell_type": "markdown",
   "metadata": {
    "id": "IaBEW5ytdk5c"
   },
   "source": [
    "This score reflects higher risk if mortality and disease rates are high and lower risk when health investments and outcomes (like life expectancy) are better."
   ]
  },
  {
   "cell_type": "markdown",
   "metadata": {
    "id": "ueuvWu2HdulX"
   },
   "source": [
    "We then classify countries based on percentile thresholds:\n",
    "\n",
    "*   Low Risk: Bottom 33%\n",
    "\n",
    "*   Medium Risk: Middle 33%\n",
    "*   High Risk: Top 33%\n",
    "\n",
    "\n",
    "\n",
    "\n"
   ]
  },
  {
   "cell_type": "markdown",
   "metadata": {
    "id": "e6hlfkPYd6ma"
   },
   "source": [
    "**3. Supervised Learning Approach**"
   ]
  },
  {
   "cell_type": "markdown",
   "metadata": {
    "id": "_bRkrAhjd-6-"
   },
   "source": [
    "We use classification models to predict the **Risk Level** based on input features."
   ]
  },
  {
   "cell_type": "markdown",
   "metadata": {
    "id": "EBTeJFs2eGBo"
   },
   "source": [
    " # Features Used (X):\n",
    "\n",
    "*   life_expect\n",
    "\n",
    "*   health_exp\n",
    "\n",
    "*   maternal_mortality\n",
    "\n",
    "*   infant_mortality\n",
    "*   neonatal_mortality\n",
    "\n",
    "*   under_5_mortality\n",
    "\n",
    "*  prev_hiv\n",
    "\n",
    "*  inci_tuber(cuberculosis)\n",
    "\n",
    "*  uprev_undernourishment\n",
    "   \n",
    "\n",
    "\n",
    "\n",
    "\n",
    "\n",
    "\n"
   ]
  },
  {
   "cell_type": "markdown",
   "metadata": {
    "id": "iVhD9YnxeMsH"
   },
   "source": [
    "# Target Variable (y):"
   ]
  },
  {
   "cell_type": "markdown",
   "metadata": {
    "id": "hymlKLjZeQjf"
   },
   "source": [
    "Risk Level (Low, Medium, High)"
   ]
  },
  {
   "cell_type": "markdown",
   "metadata": {
    "id": "Xw-GYVRWgXF9"
   },
   "source": [
    " **Step 1: Import Libraries**"
   ]
  },
  {
   "cell_type": "code",
   "execution_count": null,
   "metadata": {
    "id": "4Qw8Y9yYCNqn"
   },
   "outputs": [],
   "source": [
    "import pandas as pd\n",
    "from sklearn.model_selection import train_test_split\n",
    "from sklearn.ensemble import RandomForestClassifier\n",
    "from sklearn.linear_model import LogisticRegression\n",
    "from sklearn.tree import DecisionTreeClassifier\n",
    "from sklearn.metrics import classification_report, confusion_matrix\n",
    "import matplotlib.pyplot as plt\n",
    "import seaborn as sns"
   ]
  },
  {
   "cell_type": "markdown",
   "metadata": {
    "id": "p53uiRmIgcMV"
   },
   "source": [
    "**Step 2: Load Dataset**"
   ]
  },
  {
   "cell_type": "code",
   "execution_count": null,
   "metadata": {
    "colab": {
     "base_uri": "https://localhost:8080/",
     "height": 397
    },
    "executionInfo": {
     "elapsed": 13720,
     "status": "ok",
     "timestamp": 1754680846611,
     "user": {
      "displayName": "V NARESH IIT ROORKEE",
      "userId": "14292196421503943932"
     },
     "user_tz": -330
    },
    "id": "HTftuwWxH6PR",
    "outputId": "fa2e3ae9-187c-45bd-d30a-958b36708e59"
   },
   "outputs": [
    {
     "data": {
      "text/html": [
       "\n",
       "     <input type=\"file\" id=\"files-542b69d2-88e3-428c-854b-e7d5d3a2c8d7\" name=\"files[]\" multiple disabled\n",
       "        style=\"border:none\" />\n",
       "     <output id=\"result-542b69d2-88e3-428c-854b-e7d5d3a2c8d7\">\n",
       "      Upload widget is only available when the cell has been executed in the\n",
       "      current browser session. Please rerun this cell to enable.\n",
       "      </output>\n",
       "      <script>// Copyright 2017 Google LLC\n",
       "//\n",
       "// Licensed under the Apache License, Version 2.0 (the \"License\");\n",
       "// you may not use this file except in compliance with the License.\n",
       "// You may obtain a copy of the License at\n",
       "//\n",
       "//      http://www.apache.org/licenses/LICENSE-2.0\n",
       "//\n",
       "// Unless required by applicable law or agreed to in writing, software\n",
       "// distributed under the License is distributed on an \"AS IS\" BASIS,\n",
       "// WITHOUT WARRANTIES OR CONDITIONS OF ANY KIND, either express or implied.\n",
       "// See the License for the specific language governing permissions and\n",
       "// limitations under the License.\n",
       "\n",
       "/**\n",
       " * @fileoverview Helpers for google.colab Python module.\n",
       " */\n",
       "(function(scope) {\n",
       "function span(text, styleAttributes = {}) {\n",
       "  const element = document.createElement('span');\n",
       "  element.textContent = text;\n",
       "  for (const key of Object.keys(styleAttributes)) {\n",
       "    element.style[key] = styleAttributes[key];\n",
       "  }\n",
       "  return element;\n",
       "}\n",
       "\n",
       "// Max number of bytes which will be uploaded at a time.\n",
       "const MAX_PAYLOAD_SIZE = 100 * 1024;\n",
       "\n",
       "function _uploadFiles(inputId, outputId) {\n",
       "  const steps = uploadFilesStep(inputId, outputId);\n",
       "  const outputElement = document.getElementById(outputId);\n",
       "  // Cache steps on the outputElement to make it available for the next call\n",
       "  // to uploadFilesContinue from Python.\n",
       "  outputElement.steps = steps;\n",
       "\n",
       "  return _uploadFilesContinue(outputId);\n",
       "}\n",
       "\n",
       "// This is roughly an async generator (not supported in the browser yet),\n",
       "// where there are multiple asynchronous steps and the Python side is going\n",
       "// to poll for completion of each step.\n",
       "// This uses a Promise to block the python side on completion of each step,\n",
       "// then passes the result of the previous step as the input to the next step.\n",
       "function _uploadFilesContinue(outputId) {\n",
       "  const outputElement = document.getElementById(outputId);\n",
       "  const steps = outputElement.steps;\n",
       "\n",
       "  const next = steps.next(outputElement.lastPromiseValue);\n",
       "  return Promise.resolve(next.value.promise).then((value) => {\n",
       "    // Cache the last promise value to make it available to the next\n",
       "    // step of the generator.\n",
       "    outputElement.lastPromiseValue = value;\n",
       "    return next.value.response;\n",
       "  });\n",
       "}\n",
       "\n",
       "/**\n",
       " * Generator function which is called between each async step of the upload\n",
       " * process.\n",
       " * @param {string} inputId Element ID of the input file picker element.\n",
       " * @param {string} outputId Element ID of the output display.\n",
       " * @return {!Iterable<!Object>} Iterable of next steps.\n",
       " */\n",
       "function* uploadFilesStep(inputId, outputId) {\n",
       "  const inputElement = document.getElementById(inputId);\n",
       "  inputElement.disabled = false;\n",
       "\n",
       "  const outputElement = document.getElementById(outputId);\n",
       "  outputElement.innerHTML = '';\n",
       "\n",
       "  const pickedPromise = new Promise((resolve) => {\n",
       "    inputElement.addEventListener('change', (e) => {\n",
       "      resolve(e.target.files);\n",
       "    });\n",
       "  });\n",
       "\n",
       "  const cancel = document.createElement('button');\n",
       "  inputElement.parentElement.appendChild(cancel);\n",
       "  cancel.textContent = 'Cancel upload';\n",
       "  const cancelPromise = new Promise((resolve) => {\n",
       "    cancel.onclick = () => {\n",
       "      resolve(null);\n",
       "    };\n",
       "  });\n",
       "\n",
       "  // Wait for the user to pick the files.\n",
       "  const files = yield {\n",
       "    promise: Promise.race([pickedPromise, cancelPromise]),\n",
       "    response: {\n",
       "      action: 'starting',\n",
       "    }\n",
       "  };\n",
       "\n",
       "  cancel.remove();\n",
       "\n",
       "  // Disable the input element since further picks are not allowed.\n",
       "  inputElement.disabled = true;\n",
       "\n",
       "  if (!files) {\n",
       "    return {\n",
       "      response: {\n",
       "        action: 'complete',\n",
       "      }\n",
       "    };\n",
       "  }\n",
       "\n",
       "  for (const file of files) {\n",
       "    const li = document.createElement('li');\n",
       "    li.append(span(file.name, {fontWeight: 'bold'}));\n",
       "    li.append(span(\n",
       "        `(${file.type || 'n/a'}) - ${file.size} bytes, ` +\n",
       "        `last modified: ${\n",
       "            file.lastModifiedDate ? file.lastModifiedDate.toLocaleDateString() :\n",
       "                                    'n/a'} - `));\n",
       "    const percent = span('0% done');\n",
       "    li.appendChild(percent);\n",
       "\n",
       "    outputElement.appendChild(li);\n",
       "\n",
       "    const fileDataPromise = new Promise((resolve) => {\n",
       "      const reader = new FileReader();\n",
       "      reader.onload = (e) => {\n",
       "        resolve(e.target.result);\n",
       "      };\n",
       "      reader.readAsArrayBuffer(file);\n",
       "    });\n",
       "    // Wait for the data to be ready.\n",
       "    let fileData = yield {\n",
       "      promise: fileDataPromise,\n",
       "      response: {\n",
       "        action: 'continue',\n",
       "      }\n",
       "    };\n",
       "\n",
       "    // Use a chunked sending to avoid message size limits. See b/62115660.\n",
       "    let position = 0;\n",
       "    do {\n",
       "      const length = Math.min(fileData.byteLength - position, MAX_PAYLOAD_SIZE);\n",
       "      const chunk = new Uint8Array(fileData, position, length);\n",
       "      position += length;\n",
       "\n",
       "      const base64 = btoa(String.fromCharCode.apply(null, chunk));\n",
       "      yield {\n",
       "        response: {\n",
       "          action: 'append',\n",
       "          file: file.name,\n",
       "          data: base64,\n",
       "        },\n",
       "      };\n",
       "\n",
       "      let percentDone = fileData.byteLength === 0 ?\n",
       "          100 :\n",
       "          Math.round((position / fileData.byteLength) * 100);\n",
       "      percent.textContent = `${percentDone}% done`;\n",
       "\n",
       "    } while (position < fileData.byteLength);\n",
       "  }\n",
       "\n",
       "  // All done.\n",
       "  yield {\n",
       "    response: {\n",
       "      action: 'complete',\n",
       "    }\n",
       "  };\n",
       "}\n",
       "\n",
       "scope.google = scope.google || {};\n",
       "scope.google.colab = scope.google.colab || {};\n",
       "scope.google.colab._files = {\n",
       "  _uploadFiles,\n",
       "  _uploadFilesContinue,\n",
       "};\n",
       "})(self);\n",
       "</script> "
      ],
      "text/plain": [
       "<IPython.core.display.HTML object>"
      ]
     },
     "metadata": {},
     "output_type": "display_data"
    },
    {
     "name": "stdout",
     "output_type": "stream",
     "text": [
      "Saving final_cleaned_health_data.xlsx to final_cleaned_health_data (7).xlsx\n"
     ]
    },
    {
     "data": {
      "application/vnd.google.colaboratory.intrinsic+json": {
       "type": "dataframe",
       "variable_name": "data"
      },
      "text/html": [
       "\n",
       "  <div id=\"df-2412a05a-f66c-4dbf-b7c6-b8fbc35ae1c0\" class=\"colab-df-container\">\n",
       "    <div>\n",
       "<style scoped>\n",
       "    .dataframe tbody tr th:only-of-type {\n",
       "        vertical-align: middle;\n",
       "    }\n",
       "\n",
       "    .dataframe tbody tr th {\n",
       "        vertical-align: top;\n",
       "    }\n",
       "\n",
       "    .dataframe thead th {\n",
       "        text-align: right;\n",
       "    }\n",
       "</style>\n",
       "<table border=\"1\" class=\"dataframe\">\n",
       "  <thead>\n",
       "    <tr style=\"text-align: right;\">\n",
       "      <th></th>\n",
       "      <th>country</th>\n",
       "      <th>country_code</th>\n",
       "      <th>year</th>\n",
       "      <th>health_exp</th>\n",
       "      <th>life_expect</th>\n",
       "      <th>maternal_mortality</th>\n",
       "      <th>infant_mortality</th>\n",
       "      <th>neonatal_mortality</th>\n",
       "      <th>under_5_mortality</th>\n",
       "      <th>prev_hiv</th>\n",
       "      <th>...</th>\n",
       "      <th>child_survival_rate</th>\n",
       "      <th>infant_survival_rate</th>\n",
       "      <th>neonatal_survival_rate</th>\n",
       "      <th>hiv_risk_score</th>\n",
       "      <th>maternal_death_ratio</th>\n",
       "      <th>total_mortality_burden</th>\n",
       "      <th>disease_burden_score</th>\n",
       "      <th>health_efficiency_ratio</th>\n",
       "      <th>is_critical</th>\n",
       "      <th>malnutrition_infant_link</th>\n",
       "    </tr>\n",
       "  </thead>\n",
       "  <tbody>\n",
       "    <tr>\n",
       "      <th>0</th>\n",
       "      <td>Aruba</td>\n",
       "      <td>ABW</td>\n",
       "      <td>1999</td>\n",
       "      <td>5.44399</td>\n",
       "      <td>73.561000</td>\n",
       "      <td>74.0</td>\n",
       "      <td>20.1</td>\n",
       "      <td>12.700000</td>\n",
       "      <td>23.606879</td>\n",
       "      <td>0.40</td>\n",
       "      <td>...</td>\n",
       "      <td>976.393121</td>\n",
       "      <td>979.9</td>\n",
       "      <td>987.300000</td>\n",
       "      <td>4.0</td>\n",
       "      <td>0.00074</td>\n",
       "      <td>130.406879</td>\n",
       "      <td>58.50</td>\n",
       "      <td>13.512333</td>\n",
       "      <td>0</td>\n",
       "      <td>142.71</td>\n",
       "    </tr>\n",
       "    <tr>\n",
       "      <th>1</th>\n",
       "      <td>Africa Eastern and Southern</td>\n",
       "      <td>AFE</td>\n",
       "      <td>1999</td>\n",
       "      <td>5.44399</td>\n",
       "      <td>51.258874</td>\n",
       "      <td>74.0</td>\n",
       "      <td>83.0</td>\n",
       "      <td>38.433841</td>\n",
       "      <td>112.600000</td>\n",
       "      <td>1.45</td>\n",
       "      <td>...</td>\n",
       "      <td>887.400000</td>\n",
       "      <td>917.0</td>\n",
       "      <td>961.566159</td>\n",
       "      <td>14.5</td>\n",
       "      <td>0.00074</td>\n",
       "      <td>308.033841</td>\n",
       "      <td>59.55</td>\n",
       "      <td>9.415682</td>\n",
       "      <td>1</td>\n",
       "      <td>589.30</td>\n",
       "    </tr>\n",
       "    <tr>\n",
       "      <th>2</th>\n",
       "      <td>Afghanistan</td>\n",
       "      <td>AFG</td>\n",
       "      <td>1999</td>\n",
       "      <td>5.44399</td>\n",
       "      <td>54.846000</td>\n",
       "      <td>74.0</td>\n",
       "      <td>83.0</td>\n",
       "      <td>50.676497</td>\n",
       "      <td>112.600000</td>\n",
       "      <td>0.10</td>\n",
       "      <td>...</td>\n",
       "      <td>887.400000</td>\n",
       "      <td>917.0</td>\n",
       "      <td>949.323503</td>\n",
       "      <td>1.0</td>\n",
       "      <td>0.00074</td>\n",
       "      <td>320.276497</td>\n",
       "      <td>58.20</td>\n",
       "      <td>10.074596</td>\n",
       "      <td>1</td>\n",
       "      <td>589.30</td>\n",
       "    </tr>\n",
       "    <tr>\n",
       "      <th>3</th>\n",
       "      <td>Africa Western and Central</td>\n",
       "      <td>AFW</td>\n",
       "      <td>1999</td>\n",
       "      <td>5.44399</td>\n",
       "      <td>49.726429</td>\n",
       "      <td>74.0</td>\n",
       "      <td>83.0</td>\n",
       "      <td>44.733554</td>\n",
       "      <td>112.600000</td>\n",
       "      <td>0.40</td>\n",
       "      <td>...</td>\n",
       "      <td>887.400000</td>\n",
       "      <td>917.0</td>\n",
       "      <td>955.266446</td>\n",
       "      <td>4.0</td>\n",
       "      <td>0.00074</td>\n",
       "      <td>314.333554</td>\n",
       "      <td>58.50</td>\n",
       "      <td>9.134189</td>\n",
       "      <td>1</td>\n",
       "      <td>589.30</td>\n",
       "    </tr>\n",
       "    <tr>\n",
       "      <th>4</th>\n",
       "      <td>Angola</td>\n",
       "      <td>AGO</td>\n",
       "      <td>1999</td>\n",
       "      <td>5.44399</td>\n",
       "      <td>48.978516</td>\n",
       "      <td>74.0</td>\n",
       "      <td>83.0</td>\n",
       "      <td>50.676497</td>\n",
       "      <td>112.600000</td>\n",
       "      <td>1.30</td>\n",
       "      <td>...</td>\n",
       "      <td>887.400000</td>\n",
       "      <td>917.0</td>\n",
       "      <td>949.323503</td>\n",
       "      <td>13.0</td>\n",
       "      <td>0.00074</td>\n",
       "      <td>320.276497</td>\n",
       "      <td>59.40</td>\n",
       "      <td>8.996805</td>\n",
       "      <td>1</td>\n",
       "      <td>589.30</td>\n",
       "    </tr>\n",
       "  </tbody>\n",
       "</table>\n",
       "<p>5 rows × 25 columns</p>\n",
       "</div>\n",
       "    <div class=\"colab-df-buttons\">\n",
       "\n",
       "  <div class=\"colab-df-container\">\n",
       "    <button class=\"colab-df-convert\" onclick=\"convertToInteractive('df-2412a05a-f66c-4dbf-b7c6-b8fbc35ae1c0')\"\n",
       "            title=\"Convert this dataframe to an interactive table.\"\n",
       "            style=\"display:none;\">\n",
       "\n",
       "  <svg xmlns=\"http://www.w3.org/2000/svg\" height=\"24px\" viewBox=\"0 -960 960 960\">\n",
       "    <path d=\"M120-120v-720h720v720H120Zm60-500h600v-160H180v160Zm220 220h160v-160H400v160Zm0 220h160v-160H400v160ZM180-400h160v-160H180v160Zm440 0h160v-160H620v160ZM180-180h160v-160H180v160Zm440 0h160v-160H620v160Z\"/>\n",
       "  </svg>\n",
       "    </button>\n",
       "\n",
       "  <style>\n",
       "    .colab-df-container {\n",
       "      display:flex;\n",
       "      gap: 12px;\n",
       "    }\n",
       "\n",
       "    .colab-df-convert {\n",
       "      background-color: #E8F0FE;\n",
       "      border: none;\n",
       "      border-radius: 50%;\n",
       "      cursor: pointer;\n",
       "      display: none;\n",
       "      fill: #1967D2;\n",
       "      height: 32px;\n",
       "      padding: 0 0 0 0;\n",
       "      width: 32px;\n",
       "    }\n",
       "\n",
       "    .colab-df-convert:hover {\n",
       "      background-color: #E2EBFA;\n",
       "      box-shadow: 0px 1px 2px rgba(60, 64, 67, 0.3), 0px 1px 3px 1px rgba(60, 64, 67, 0.15);\n",
       "      fill: #174EA6;\n",
       "    }\n",
       "\n",
       "    .colab-df-buttons div {\n",
       "      margin-bottom: 4px;\n",
       "    }\n",
       "\n",
       "    [theme=dark] .colab-df-convert {\n",
       "      background-color: #3B4455;\n",
       "      fill: #D2E3FC;\n",
       "    }\n",
       "\n",
       "    [theme=dark] .colab-df-convert:hover {\n",
       "      background-color: #434B5C;\n",
       "      box-shadow: 0px 1px 3px 1px rgba(0, 0, 0, 0.15);\n",
       "      filter: drop-shadow(0px 1px 2px rgba(0, 0, 0, 0.3));\n",
       "      fill: #FFFFFF;\n",
       "    }\n",
       "  </style>\n",
       "\n",
       "    <script>\n",
       "      const buttonEl =\n",
       "        document.querySelector('#df-2412a05a-f66c-4dbf-b7c6-b8fbc35ae1c0 button.colab-df-convert');\n",
       "      buttonEl.style.display =\n",
       "        google.colab.kernel.accessAllowed ? 'block' : 'none';\n",
       "\n",
       "      async function convertToInteractive(key) {\n",
       "        const element = document.querySelector('#df-2412a05a-f66c-4dbf-b7c6-b8fbc35ae1c0');\n",
       "        const dataTable =\n",
       "          await google.colab.kernel.invokeFunction('convertToInteractive',\n",
       "                                                    [key], {});\n",
       "        if (!dataTable) return;\n",
       "\n",
       "        const docLinkHtml = 'Like what you see? Visit the ' +\n",
       "          '<a target=\"_blank\" href=https://colab.research.google.com/notebooks/data_table.ipynb>data table notebook</a>'\n",
       "          + ' to learn more about interactive tables.';\n",
       "        element.innerHTML = '';\n",
       "        dataTable['output_type'] = 'display_data';\n",
       "        await google.colab.output.renderOutput(dataTable, element);\n",
       "        const docLink = document.createElement('div');\n",
       "        docLink.innerHTML = docLinkHtml;\n",
       "        element.appendChild(docLink);\n",
       "      }\n",
       "    </script>\n",
       "  </div>\n",
       "\n",
       "\n",
       "    <div id=\"df-6b17d35e-b27b-49c7-8f54-b1aeecee704d\">\n",
       "      <button class=\"colab-df-quickchart\" onclick=\"quickchart('df-6b17d35e-b27b-49c7-8f54-b1aeecee704d')\"\n",
       "                title=\"Suggest charts\"\n",
       "                style=\"display:none;\">\n",
       "\n",
       "<svg xmlns=\"http://www.w3.org/2000/svg\" height=\"24px\"viewBox=\"0 0 24 24\"\n",
       "     width=\"24px\">\n",
       "    <g>\n",
       "        <path d=\"M19 3H5c-1.1 0-2 .9-2 2v14c0 1.1.9 2 2 2h14c1.1 0 2-.9 2-2V5c0-1.1-.9-2-2-2zM9 17H7v-7h2v7zm4 0h-2V7h2v10zm4 0h-2v-4h2v4z\"/>\n",
       "    </g>\n",
       "</svg>\n",
       "      </button>\n",
       "\n",
       "<style>\n",
       "  .colab-df-quickchart {\n",
       "      --bg-color: #E8F0FE;\n",
       "      --fill-color: #1967D2;\n",
       "      --hover-bg-color: #E2EBFA;\n",
       "      --hover-fill-color: #174EA6;\n",
       "      --disabled-fill-color: #AAA;\n",
       "      --disabled-bg-color: #DDD;\n",
       "  }\n",
       "\n",
       "  [theme=dark] .colab-df-quickchart {\n",
       "      --bg-color: #3B4455;\n",
       "      --fill-color: #D2E3FC;\n",
       "      --hover-bg-color: #434B5C;\n",
       "      --hover-fill-color: #FFFFFF;\n",
       "      --disabled-bg-color: #3B4455;\n",
       "      --disabled-fill-color: #666;\n",
       "  }\n",
       "\n",
       "  .colab-df-quickchart {\n",
       "    background-color: var(--bg-color);\n",
       "    border: none;\n",
       "    border-radius: 50%;\n",
       "    cursor: pointer;\n",
       "    display: none;\n",
       "    fill: var(--fill-color);\n",
       "    height: 32px;\n",
       "    padding: 0;\n",
       "    width: 32px;\n",
       "  }\n",
       "\n",
       "  .colab-df-quickchart:hover {\n",
       "    background-color: var(--hover-bg-color);\n",
       "    box-shadow: 0 1px 2px rgba(60, 64, 67, 0.3), 0 1px 3px 1px rgba(60, 64, 67, 0.15);\n",
       "    fill: var(--button-hover-fill-color);\n",
       "  }\n",
       "\n",
       "  .colab-df-quickchart-complete:disabled,\n",
       "  .colab-df-quickchart-complete:disabled:hover {\n",
       "    background-color: var(--disabled-bg-color);\n",
       "    fill: var(--disabled-fill-color);\n",
       "    box-shadow: none;\n",
       "  }\n",
       "\n",
       "  .colab-df-spinner {\n",
       "    border: 2px solid var(--fill-color);\n",
       "    border-color: transparent;\n",
       "    border-bottom-color: var(--fill-color);\n",
       "    animation:\n",
       "      spin 1s steps(1) infinite;\n",
       "  }\n",
       "\n",
       "  @keyframes spin {\n",
       "    0% {\n",
       "      border-color: transparent;\n",
       "      border-bottom-color: var(--fill-color);\n",
       "      border-left-color: var(--fill-color);\n",
       "    }\n",
       "    20% {\n",
       "      border-color: transparent;\n",
       "      border-left-color: var(--fill-color);\n",
       "      border-top-color: var(--fill-color);\n",
       "    }\n",
       "    30% {\n",
       "      border-color: transparent;\n",
       "      border-left-color: var(--fill-color);\n",
       "      border-top-color: var(--fill-color);\n",
       "      border-right-color: var(--fill-color);\n",
       "    }\n",
       "    40% {\n",
       "      border-color: transparent;\n",
       "      border-right-color: var(--fill-color);\n",
       "      border-top-color: var(--fill-color);\n",
       "    }\n",
       "    60% {\n",
       "      border-color: transparent;\n",
       "      border-right-color: var(--fill-color);\n",
       "    }\n",
       "    80% {\n",
       "      border-color: transparent;\n",
       "      border-right-color: var(--fill-color);\n",
       "      border-bottom-color: var(--fill-color);\n",
       "    }\n",
       "    90% {\n",
       "      border-color: transparent;\n",
       "      border-bottom-color: var(--fill-color);\n",
       "    }\n",
       "  }\n",
       "</style>\n",
       "\n",
       "      <script>\n",
       "        async function quickchart(key) {\n",
       "          const quickchartButtonEl =\n",
       "            document.querySelector('#' + key + ' button');\n",
       "          quickchartButtonEl.disabled = true;  // To prevent multiple clicks.\n",
       "          quickchartButtonEl.classList.add('colab-df-spinner');\n",
       "          try {\n",
       "            const charts = await google.colab.kernel.invokeFunction(\n",
       "                'suggestCharts', [key], {});\n",
       "          } catch (error) {\n",
       "            console.error('Error during call to suggestCharts:', error);\n",
       "          }\n",
       "          quickchartButtonEl.classList.remove('colab-df-spinner');\n",
       "          quickchartButtonEl.classList.add('colab-df-quickchart-complete');\n",
       "        }\n",
       "        (() => {\n",
       "          let quickchartButtonEl =\n",
       "            document.querySelector('#df-6b17d35e-b27b-49c7-8f54-b1aeecee704d button');\n",
       "          quickchartButtonEl.style.display =\n",
       "            google.colab.kernel.accessAllowed ? 'block' : 'none';\n",
       "        })();\n",
       "      </script>\n",
       "    </div>\n",
       "\n",
       "    </div>\n",
       "  </div>\n"
      ],
      "text/plain": [
       "                       country country_code  year  health_exp  life_expect  \\\n",
       "0                        Aruba          ABW  1999     5.44399    73.561000   \n",
       "1  Africa Eastern and Southern          AFE  1999     5.44399    51.258874   \n",
       "2                  Afghanistan          AFG  1999     5.44399    54.846000   \n",
       "3   Africa Western and Central          AFW  1999     5.44399    49.726429   \n",
       "4                       Angola          AGO  1999     5.44399    48.978516   \n",
       "\n",
       "   maternal_mortality  infant_mortality  neonatal_mortality  \\\n",
       "0                74.0              20.1           12.700000   \n",
       "1                74.0              83.0           38.433841   \n",
       "2                74.0              83.0           50.676497   \n",
       "3                74.0              83.0           44.733554   \n",
       "4                74.0              83.0           50.676497   \n",
       "\n",
       "   under_5_mortality  prev_hiv  ...  child_survival_rate  \\\n",
       "0          23.606879      0.40  ...           976.393121   \n",
       "1         112.600000      1.45  ...           887.400000   \n",
       "2         112.600000      0.10  ...           887.400000   \n",
       "3         112.600000      0.40  ...           887.400000   \n",
       "4         112.600000      1.30  ...           887.400000   \n",
       "\n",
       "   infant_survival_rate  neonatal_survival_rate  hiv_risk_score  \\\n",
       "0                 979.9              987.300000             4.0   \n",
       "1                 917.0              961.566159            14.5   \n",
       "2                 917.0              949.323503             1.0   \n",
       "3                 917.0              955.266446             4.0   \n",
       "4                 917.0              949.323503            13.0   \n",
       "\n",
       "   maternal_death_ratio  total_mortality_burden  disease_burden_score  \\\n",
       "0               0.00074              130.406879                 58.50   \n",
       "1               0.00074              308.033841                 59.55   \n",
       "2               0.00074              320.276497                 58.20   \n",
       "3               0.00074              314.333554                 58.50   \n",
       "4               0.00074              320.276497                 59.40   \n",
       "\n",
       "   health_efficiency_ratio  is_critical  malnutrition_infant_link  \n",
       "0                13.512333            0                    142.71  \n",
       "1                 9.415682            1                    589.30  \n",
       "2                10.074596            1                    589.30  \n",
       "3                 9.134189            1                    589.30  \n",
       "4                 8.996805            1                    589.30  \n",
       "\n",
       "[5 rows x 25 columns]"
      ]
     },
     "execution_count": 20,
     "metadata": {},
     "output_type": "execute_result"
    }
   ],
   "source": [
    "from google.colab import files\n",
    "import pandas as pd\n",
    "import io\n",
    "\n",
    "# Step 1: Upload the file\n",
    "uploaded = files.upload()\n",
    "\n",
    "# Step 2: Automatically read the first uploaded file (no need to type the name manually)\n",
    "file_name = list(uploaded.keys())[0]\n",
    "data = pd.read_excel(io.BytesIO(uploaded[file_name]), engine='openpyxl')\n",
    "\n",
    "# Step 3: Preview the data\n",
    "data.head()\n"
   ]
  },
  {
   "cell_type": "markdown",
   "metadata": {
    "id": "l-75TwIkgfvL"
   },
   "source": [
    "**Step 3: Select Features**"
   ]
  },
  {
   "cell_type": "code",
   "execution_count": null,
   "metadata": {
    "executionInfo": {
     "elapsed": 5,
     "status": "ok",
     "timestamp": 1754680850506,
     "user": {
      "displayName": "V NARESH IIT ROORKEE",
      "userId": "14292196421503943932"
     },
     "user_tz": -330
    },
    "id": "sMmYUggRFPF3"
   },
   "outputs": [],
   "source": [
    "features = [\n",
    "    'life_expect',\n",
    "    'health_exp',\n",
    "    'maternal_mortality',\n",
    "    'infant_mortality',\n",
    "    'neonatal_mortality',\n",
    "    'under_5_mortality',\n",
    "    'prev_hiv',\n",
    "    'inci_tuberc',\n",
    "    'prev_undernourishment'\n",
    "]"
   ]
  },
  {
   "cell_type": "code",
   "execution_count": null,
   "metadata": {
    "colab": {
     "base_uri": "https://localhost:8080/"
    },
    "executionInfo": {
     "elapsed": 11,
     "status": "ok",
     "timestamp": 1754680854182,
     "user": {
      "displayName": "V NARESH IIT ROORKEE",
      "userId": "14292196421503943932"
     },
     "user_tz": -330
    },
    "id": "JOcK-cbZFq4w",
    "outputId": "b69fd4b6-50b0-4577-98c4-ec796bf7a418"
   },
   "outputs": [
    {
     "data": {
      "text/plain": [
       "['country',\n",
       " 'country_code',\n",
       " 'year',\n",
       " 'health_exp',\n",
       " 'life_expect',\n",
       " 'maternal_mortality',\n",
       " 'infant_mortality',\n",
       " 'neonatal_mortality',\n",
       " 'under_5_mortality',\n",
       " 'prev_hiv',\n",
       " 'inci_tuberc',\n",
       " 'prev_undernourishment',\n",
       " 'health_index',\n",
       " 'healthcare_efficiency',\n",
       " 'is_developed',\n",
       " 'child_survival_rate',\n",
       " 'infant_survival_rate',\n",
       " 'neonatal_survival_rate',\n",
       " 'hiv_risk_score',\n",
       " 'maternal_death_ratio',\n",
       " 'total_mortality_burden',\n",
       " 'disease_burden_score',\n",
       " 'health_efficiency_ratio',\n",
       " 'is_critical',\n",
       " 'malnutrition_infant_link']"
      ]
     },
     "execution_count": 22,
     "metadata": {},
     "output_type": "execute_result"
    }
   ],
   "source": [
    "data.columns.tolist()"
   ]
  },
  {
   "cell_type": "markdown",
   "metadata": {
    "id": "HQt3qH6ugmBs"
   },
   "source": [
    "**Step 4: Create Risk Score**"
   ]
  },
  {
   "cell_type": "code",
   "execution_count": null,
   "metadata": {
    "executionInfo": {
     "elapsed": 3,
     "status": "ok",
     "timestamp": 1754680856675,
     "user": {
      "displayName": "V NARESH IIT ROORKEE",
      "userId": "14292196421503943932"
     },
     "user_tz": -330
    },
    "id": "pKZHA3neGH5r"
   },
   "outputs": [],
   "source": [
    "data['risk_score'] = (\n",
    "    data['maternal_mortality'] +\n",
    "    data['infant_mortality'] +\n",
    "    data['neonatal_mortality'] +\n",
    "    data['under_5_mortality'] +\n",
    "    data['prev_hiv'] * 2 +\n",
    "    data['inci_tuberc'] +\n",
    "    data['prev_undernourishment'] -\n",
    "    data['life_expect'] -\n",
    "    data['health_exp'] * 2\n",
    ")"
   ]
  },
  {
   "cell_type": "markdown",
   "metadata": {
    "id": "g_iqBiQEgqP3"
   },
   "source": [
    "**Step 5: Categorize Risk Levels**"
   ]
  },
  {
   "cell_type": "code",
   "execution_count": null,
   "metadata": {
    "executionInfo": {
     "elapsed": 7,
     "status": "ok",
     "timestamp": 1754680859579,
     "user": {
      "displayName": "V NARESH IIT ROORKEE",
      "userId": "14292196421503943932"
     },
     "user_tz": -330
    },
    "id": "H_D1N61zGe23"
   },
   "outputs": [],
   "source": [
    "threshold_high = data['risk_score'].quantile(0.66)\n",
    "threshold_medium = data['risk_score'].quantile(0.33)\n",
    "\n",
    "def label_risk(score):\n",
    "    if score > threshold_high:\n",
    "        return 'High Risk'\n",
    "    elif score > threshold_medium:\n",
    "        return 'Medium Risk'\n",
    "    else:\n",
    "        return 'Low Risk'\n",
    "\n",
    "data['Risk Level'] = data['risk_score'].apply(label_risk)"
   ]
  },
  {
   "cell_type": "markdown",
   "metadata": {
    "id": "9WIBhAXUgu8n"
   },
   "source": [
    "**Step 6: Train/Test Split**"
   ]
  },
  {
   "cell_type": "code",
   "execution_count": null,
   "metadata": {
    "executionInfo": {
     "elapsed": 20,
     "status": "ok",
     "timestamp": 1754680862355,
     "user": {
      "displayName": "V NARESH IIT ROORKEE",
      "userId": "14292196421503943932"
     },
     "user_tz": -330
    },
    "id": "zzPl_A6MGjav"
   },
   "outputs": [],
   "source": [
    "X = data[features]\n",
    "y = data['Risk Level']\n",
    "X_train, X_test, y_train, y_test = train_test_split(X, y, test_size=0.2, random_state=42)"
   ]
  },
  {
   "cell_type": "markdown",
   "metadata": {
    "id": "rYlBANVSg09Y"
   },
   "source": [
    "**Step 7: Define Models**"
   ]
  },
  {
   "cell_type": "code",
   "execution_count": null,
   "metadata": {
    "executionInfo": {
     "elapsed": 20,
     "status": "ok",
     "timestamp": 1754680864981,
     "user": {
      "displayName": "V NARESH IIT ROORKEE",
      "userId": "14292196421503943932"
     },
     "user_tz": -330
    },
    "id": "sSPEf889HAmA"
   },
   "outputs": [],
   "source": [
    "models = {\n",
    "    'Logistic Regression': LogisticRegression(max_iter=1000),\n",
    "    'Decision Tree': DecisionTreeClassifier(random_state=42),\n",
    "    'Random Forest': RandomForestClassifier(random_state=42)\n",
    "}"
   ]
  },
  {
   "cell_type": "markdown",
   "metadata": {
    "id": "t6YFuohBg_xy"
   },
   "source": [
    "**Step 8: Train, Predict, Evaluate**"
   ]
  },
  {
   "cell_type": "code",
   "execution_count": null,
   "metadata": {
    "colab": {
     "base_uri": "https://localhost:8080/",
     "height": 1000
    },
    "executionInfo": {
     "elapsed": 3242,
     "status": "ok",
     "timestamp": 1754680871010,
     "user": {
      "displayName": "V NARESH IIT ROORKEE",
      "userId": "14292196421503943932"
     },
     "user_tz": -330
    },
    "id": "ELtBovaUHD2i",
    "outputId": "b13a458c-db22-4b26-e6f9-76fec98d541d"
   },
   "outputs": [
    {
     "name": "stdout",
     "output_type": "stream",
     "text": [
      "\n",
      " Model: Logistic Regression\n"
     ]
    },
    {
     "name": "stderr",
     "output_type": "stream",
     "text": [
      "/usr/local/lib/python3.11/dist-packages/sklearn/linear_model/_logistic.py:465: ConvergenceWarning: lbfgs failed to converge (status=1):\n",
      "STOP: TOTAL NO. OF ITERATIONS REACHED LIMIT.\n",
      "\n",
      "Increase the number of iterations (max_iter) or scale the data as shown in:\n",
      "    https://scikit-learn.org/stable/modules/preprocessing.html\n",
      "Please also refer to the documentation for alternative solver options:\n",
      "    https://scikit-learn.org/stable/modules/linear_model.html#logistic-regression\n",
      "  n_iter_i = _check_optimize_result(\n"
     ]
    },
    {
     "name": "stdout",
     "output_type": "stream",
     "text": [
      "Classification Report:\n",
      "              precision    recall  f1-score   support\n",
      "\n",
      "   High Risk       1.00      0.99      1.00       462\n",
      "    Low Risk       1.00      1.00      1.00       408\n",
      " Medium Risk       0.99      1.00      0.99       460\n",
      "\n",
      "    accuracy                           1.00      1330\n",
      "   macro avg       1.00      1.00      1.00      1330\n",
      "weighted avg       1.00      1.00      1.00      1330\n",
      "\n"
     ]
    },
    {
     "data": {
      "image/png": "[encoded data removed]",
      "text/plain": [
       "<Figure size 640x480 with 2 Axes>"
      ]
     },
     "metadata": {},
     "output_type": "display_data"
    },
    {
     "name": "stdout",
     "output_type": "stream",
     "text": [
      "\n",
      " Model: Decision Tree\n",
      "Classification Report:\n",
      "              precision    recall  f1-score   support\n",
      "\n",
      "   High Risk       0.99      0.98      0.99       462\n",
      "    Low Risk       0.98      0.96      0.97       408\n",
      " Medium Risk       0.95      0.97      0.96       460\n",
      "\n",
      "    accuracy                           0.97      1330\n",
      "   macro avg       0.97      0.97      0.97      1330\n",
      "weighted avg       0.97      0.97      0.97      1330\n",
      "\n"
     ]
    },
    {
     "data": {
      "image/png": "[encoded data removed]",
      "text/plain": [
       "<Figure size 640x480 with 2 Axes>"
      ]
     },
     "metadata": {},
     "output_type": "display_data"
    },
    {
     "name": "stdout",
     "output_type": "stream",
     "text": [
      "\n",
      " Model: Random Forest\n",
      "Classification Report:\n",
      "              precision    recall  f1-score   support\n",
      "\n",
      "   High Risk       0.99      0.99      0.99       462\n",
      "    Low Risk       0.99      0.98      0.99       408\n",
      " Medium Risk       0.97      0.98      0.98       460\n",
      "\n",
      "    accuracy                           0.98      1330\n",
      "   macro avg       0.98      0.98      0.98      1330\n",
      "weighted avg       0.98      0.98      0.98      1330\n",
      "\n"
     ]
    },
    {
     "data": {
      "image/png": "[encoded data removed]",
      "text/plain": [
       "<Figure size 640x480 with 2 Axes>"
      ]
     },
     "metadata": {},
     "output_type": "display_data"
    }
   ],
   "source": [
    "for name, model in models.items():\n",
    "    print(f\"\\n Model: {name}\")\n",
    "    model.fit(X_train, y_train)\n",
    "    y_pred = model.predict(X_test)\n",
    "    print(\"Classification Report:\")\n",
    "    print(classification_report(y_test, y_pred))\n",
    "    cm = confusion_matrix(y_test, y_pred)\n",
    "    sns.heatmap(cm, annot=True, fmt='d', cmap='Blues', xticklabels=model.classes_, yticklabels=model.classes_)\n",
    "    plt.title(f\"Confusion Matrix - {name}\")\n",
    "    plt.xlabel(\"Predicted\")\n",
    "    plt.ylabel(\"Actual\")\n",
    "    plt.show()"
   ]
  },
  {
   "cell_type": "markdown",
   "metadata": {
    "id": "mwQBeygVhFcp"
   },
   "source": [
    "**Step 9: Predict Risk Levels for All Countries Using Best Model (Random Forest)**"
   ]
  },
  {
   "cell_type": "code",
   "execution_count": null,
   "metadata": {
    "executionInfo": {
     "elapsed": 64,
     "status": "ok",
     "timestamp": 1754680876552,
     "user": {
      "displayName": "V NARESH IIT ROORKEE",
      "userId": "14292196421503943932"
     },
     "user_tz": -330
    },
    "id": "hbm-ghjIHLJg"
   },
   "outputs": [],
   "source": [
    "final_model = models['Random Forest']\n",
    "data['Predicted Risk Level'] = final_model.predict(X)\n"
   ]
  },
  {
   "cell_type": "markdown",
   "metadata": {
    "id": "tO-p8jnIhJXu"
   },
   "source": [
    "**Save Final Output**"
   ]
  },
  {
   "cell_type": "code",
   "execution_count": null,
   "metadata": {
    "executionInfo": {
     "elapsed": 206,
     "status": "ok",
     "timestamp": 1754680879492,
     "user": {
      "displayName": "V NARESH IIT ROORKEE",
      "userId": "14292196421503943932"
     },
     "user_tz": -330
    },
    "id": "dvlmKZNmHOjk"
   },
   "outputs": [],
   "source": [
    "data.to_csv(\"country_risk_predictions.csv\", index=False)\n"
   ]
  },
  {
   "cell_type": "markdown",
   "metadata": {
    "id": "KVaqjV9C8YXx"
   },
   "source": [
    "**Making Predictions**"
   ]
  },
  {
   "cell_type": "code",
   "execution_count": null,
   "metadata": {
    "colab": {
     "base_uri": "https://localhost:8080/"
    },
    "executionInfo": {
     "elapsed": 14381,
     "status": "ok",
     "timestamp": 1754680896736,
     "user": {
      "displayName": "V NARESH IIT ROORKEE",
      "userId": "14292196421503943932"
     },
     "user_tz": -330
    },
    "id": "3CATrifr8056",
    "outputId": "561de9d6-c6d6-4993-ba3b-8a0f75edd1d6"
   },
   "outputs": [
    {
     "name": "stdout",
     "output_type": "stream",
     "text": [
      "Enter Country Name: india\n",
      "Enter Year: 2020\n",
      "\n",
      " Risk Level for India in 2020: High Risk\n"
     ]
    }
   ],
   "source": [
    "user_country = input(\"Enter Country Name: \").strip()\n",
    "user_year = int(input(\"Enter Year: \"))\n",
    "\n",
    "user_data = data[(data['country'].str.lower() == user_country.lower()) & (data['year'] == user_year)]\n",
    "\n",
    "if not user_data.empty:\n",
    "    risk_level = user_data['Predicted Risk Level'].values[0]\n",
    "    print(f\"\\n Risk Level for {user_country.title()} in {user_year}: {risk_level}\")\n",
    "else:\n",
    "    print(\"\\n No data found for the given country and year.\")"
   ]
  },
  {
   "cell_type": "markdown",
   "metadata": {
    "id": "0Lc_cauXhQ9o"
   },
   "source": [
    "**Preview Final Predictions**"
   ]
  },
  {
   "cell_type": "code",
   "execution_count": null,
   "metadata": {
    "colab": {
     "base_uri": "https://localhost:8080/"
    },
    "executionInfo": {
     "elapsed": 19,
     "status": "ok",
     "timestamp": 1754680930463,
     "user": {
      "displayName": "V NARESH IIT ROORKEE",
      "userId": "14292196421503943932"
     },
     "user_tz": -330
    },
    "id": "gmQBsAgaHRR4",
    "outputId": "94ec421f-040b-4ec2-c106-7c36fc2e22a1"
   },
   "outputs": [
    {
     "name": "stdout",
     "output_type": "stream",
     "text": [
      "                          country   Risk Level Predicted Risk Level\n",
      "0                           Aruba  Medium Risk          Medium Risk\n",
      "1     Africa Eastern and Southern    High Risk            High Risk\n",
      "2                     Afghanistan    High Risk            High Risk\n",
      "3      Africa Western and Central    High Risk            High Risk\n",
      "4                          Angola    High Risk            High Risk\n",
      "...                           ...          ...                  ...\n",
      "5995                    Lithuania     Low Risk             Low Risk\n",
      "5996                   Luxembourg     Low Risk             Low Risk\n",
      "5997                       Latvia     Low Risk             Low Risk\n",
      "5998             Macao SAR, China  Medium Risk          Medium Risk\n",
      "5999     St. Martin (French part)  Medium Risk          Medium Risk\n",
      "\n",
      "[6000 rows x 3 columns]\n"
     ]
    }
   ],
   "source": [
    "print(data[['country', 'Risk Level', 'Predicted Risk Level']].head(6000))"
   ]
  },
  {
   "cell_type": "markdown",
   "metadata": {
    "id": "TFK9-Qswhjgf"
   },
   "source": [
    "**To download the CSV files for Country Risk Prediction**"
   ]
  },
  {
   "cell_type": "code",
   "execution_count": null,
   "metadata": {
    "colab": {
     "base_uri": "https://localhost:8080/",
     "height": 17
    },
    "executionInfo": {
     "elapsed": 8,
     "status": "ok",
     "timestamp": 1754677520574,
     "user": {
      "displayName": "108-Sakshi",
      "userId": "10878757700264782351"
     },
     "user_tz": -330
    },
    "id": "TY9kl-JyNREy",
    "outputId": "06091044-4193-44a4-9f2c-ec12cd14a699"
   },
   "outputs": [
    {
     "data": {
      "application/javascript": "\n    async function download(id, filename, size) {\n      if (!google.colab.kernel.accessAllowed) {\n        return;\n      }\n      const div = document.createElement('div');\n      const label = document.createElement('label');\n      label.textContent = `Downloading \"${filename}\": `;\n      div.appendChild(label);\n      const progress = document.createElement('progress');\n      progress.max = size;\n      div.appendChild(progress);\n      document.body.appendChild(div);\n\n      const buffers = [];\n      let downloaded = 0;\n\n      const channel = await google.colab.kernel.comms.open(id);\n      // Send a message to notify the kernel that we're ready.\n      channel.send({})\n\n      for await (const message of channel.messages) {\n        // Send a message to notify the kernel that we're ready.\n        channel.send({})\n        if (message.buffers) {\n          for (const buffer of message.buffers) {\n            buffers.push(buffer);\n            downloaded += buffer.byteLength;\n            progress.value = downloaded;\n          }\n        }\n      }\n      const blob = new Blob(buffers, {type: 'application/binary'});\n      const a = document.createElement('a');\n      a.href = window.URL.createObjectURL(blob);\n      a.download = filename;\n      div.appendChild(a);\n      a.click();\n      div.remove();\n    }\n  ",
      "text/plain": [
       "<IPython.core.display.Javascript object>"
      ]
     },
     "metadata": {},
     "output_type": "display_data"
    },
    {
     "data": {
      "application/javascript": "download(\"download_4ee7436f-6beb-447d-8c39-26cd8b36a325\", \"country_risk_predictions.csv\", 1412255)",
      "text/plain": [
       "<IPython.core.display.Javascript object>"
      ]
     },
     "metadata": {},
     "output_type": "display_data"
    }
   ],
   "source": [
    "from google.colab import files\n",
    "files.download(\"country_risk_predictions.csv\")\n"
   ]
  },
  {
   "cell_type": "markdown",
   "metadata": {
    "id": "Zetflsucj6WZ"
   },
   "source": [
    "**SHAP Plots**"
   ]
  },
  {
   "cell_type": "code",
   "execution_count": null,
   "metadata": {
    "colab": {
     "base_uri": "https://localhost:8080/",
     "height": 1000
    },
    "executionInfo": {
     "elapsed": 26982,
     "status": "ok",
     "timestamp": 1754680999520,
     "user": {
      "displayName": "V NARESH IIT ROORKEE",
      "userId": "14292196421503943932"
     },
     "user_tz": -330
    },
    "id": "ZX_QEm1Ifozj",
    "outputId": "be70fcc4-75a9-46c6-b87d-38b773bca5ab"
   },
   "outputs": [
    {
     "data": {
      "image/png": "[encoded data removed]",
      "text/plain": [
       "<Figure size 1150x660 with 3 Axes>"
      ]
     },
     "metadata": {},
     "output_type": "display_data"
    },
    {
     "data": {
      "image/png": "[encoded data removed]",
      "text/plain": [
       "<Figure size 1150x660 with 3 Axes>"
      ]
     },
     "metadata": {},
     "output_type": "display_data"
    }
   ],
   "source": [
    "import shap\n",
    "\n",
    "rf_model = RandomForestClassifier()\n",
    "rf_model.fit(X_train, y_train)\n",
    "\n",
    "explainer_rf = shap.TreeExplainer(rf_model)\n",
    "shap_values_rf = explainer_rf.shap_values(X_test)\n",
    "\n",
    "shap.summary_plot(shap_values_rf, X_test)\n",
    "\n",
    "dt_model = DecisionTreeClassifier()\n",
    "dt_model.fit(X_train, y_train)\n",
    "\n",
    "explainer_dt = shap.TreeExplainer(dt_model)\n",
    "shap_values_dt = explainer_dt.shap_values(X_test)\n",
    "\n",
    "shap.summary_plot(shap_values_dt, X_test)\n",
    "\n"
   ]
  },
  {
   "cell_type": "markdown",
   "metadata": {
    "id": "YUrb6si_iGZq"
   },
   "source": [
    "**4. Machine Learning Models Used**"
   ]
  },
  {
   "cell_type": "markdown",
   "metadata": {
    "id": "mfnSwuNoiJLG"
   },
   "source": [
    "**a) Logistic Regression**\n",
    "\n",
    "*   A linear model that estimates the probability of a categorical outcome.\n",
    "*   It assumes a linear relationship between features and the log-odds of the classes.\n",
    "\n",
    "*   Works best when classes are linearly separable.\n",
    "*   Outputs probabilities for each class; the highest is taken as prediction.\n",
    "\n",
    "\n",
    "\n"
   ]
  },
  {
   "cell_type": "markdown",
   "metadata": {
    "id": "9lTYvRovidj7"
   },
   "source": [
    "**b) Decision Tree Classifier**"
   ]
  },
  {
   "cell_type": "markdown",
   "metadata": {
    "id": "GfmtGSmGie0i"
   },
   "source": [
    "\n",
    "\n",
    "*   A non-linear model that splits data based on feature thresholds to create a tree of decisions\n",
    "\n",
    "*  Good at capturing non-linear relationships and feature interactions.\n",
    "*   However, can overfit on small datasets.\n",
    "\n",
    "\n",
    "\n"
   ]
  },
  {
   "cell_type": "markdown",
   "metadata": {
    "id": "TD8awpHFitjY"
   },
   "source": [
    "**c) Random Forest Classifier**"
   ]
  },
  {
   "cell_type": "markdown",
   "metadata": {
    "id": "EkcvIDCiiwGU"
   },
   "source": [
    "\n",
    "\n",
    "*   An ensemble of decision trees that reduces overfitting by averaging multiple trees trained on random subsets of data and features.\n",
    "*   Highly accurate and robust to noise.\n",
    "\n"
   ]
  },
  {
   "cell_type": "markdown",
   "metadata": {
    "id": "nDdNZn7Qi4U8"
   },
   "source": [
    "**5. Model Evaluation**"
   ]
  },
  {
   "cell_type": "markdown",
   "metadata": {
    "id": "sBmNGdbei5ln"
   },
   "source": [
    "Each model was trained and tested using an 80/20 train-test split and evaluated using:"
   ]
  },
  {
   "cell_type": "markdown",
   "metadata": {
    "id": "tpdYufEFi9UM"
   },
   "source": [
    "\n",
    "\n",
    "*   Classification Report: Precision, Recall, F1-Score\n",
    "*   Confusion Matrix: For visualizing prediction accuracy across classes\n",
    "\n"
   ]
  },
  {
   "cell_type": "markdown",
   "metadata": {
    "id": "O9QRNN86jEkn"
   },
   "source": [
    "**Random Forest** achieved the highest performance among the three, making it the best model for prediction."
   ]
  },
  {
   "cell_type": "markdown",
   "metadata": {
    "id": "FcMZb2eKjMzG"
   },
   "source": [
    "**6. Prediction Output**"
   ]
  },
  {
   "cell_type": "markdown",
   "metadata": {
    "id": "5Q1WG3gmjPdy"
   },
   "source": [
    "Once trained, the best model (Random Forest) was used to predict the **Risk Level** for each country."
   ]
  },
  {
   "cell_type": "markdown",
   "metadata": {
    "id": "yTvIbZo3jT3Q"
   },
   "source": [
    "The predictions were saved to a CSV file **(country_risk_predictions.csv)** including:\n",
    "\n"
   ]
  },
  {
   "cell_type": "markdown",
   "metadata": {
    "id": "FOfSGqm7jX46"
   },
   "source": [
    "\n",
    "\n",
    "*  Actual Risk Level\n",
    "\n",
    "*   Predicted Risk Level\n",
    "*   Risk Score\n",
    "\n",
    "\n",
    "*   All input features\n",
    "\n"
   ]
  },
  {
   "cell_type": "markdown",
   "metadata": {
    "id": "uV3Os76Sjj59"
   },
   "source": [
    "This allows stakeholders to analyze discrepancies between predicted and actual risk levels and trust model decisions."
   ]
  },
  {
   "cell_type": "markdown",
   "metadata": {
    "id": "zOa16y0bjkcR"
   },
   "source": [
    "**7. Strengths of This Prediction Framework**"
   ]
  },
  {
   "cell_type": "markdown",
   "metadata": {
    "id": "Jy9IUFlzjrdY"
   },
   "source": [
    "\n",
    "\n",
    "*   Combines domain knowledge (custom risk score) with data-driven learning (ML classifiers).\n",
    "\n",
    "*   Uses multiple models for comparison and robustness.\n",
    "*   Adds interpretability via SHAP for transparency.\n",
    "\n",
    "\n",
    "*   Creates a usable CSV output for decision-makers and further analysis.\n",
    "\n"
   ]
  },
  {
   "cell_type": "markdown",
   "metadata": {
    "id": "tAgjhoIQtqtU"
   },
   "source": [
    "This project implemented machine learning models — Logistic Regression, Decision Tree, and Random Forest — to predict health-related risk levels using country-level features. Among the models, Random Forest provided the best accuracy and stability.\n",
    "\n",
    "SHAP (SHapley Additive exPlanations) was used to interpret model decisions. SHAP summary and bar plots revealed that features like maternal mortality, neonatal mortality, and life expectancy had the highest impact on risk prediction."
   ]
  }
 ],
 "metadata": {
  "colab": {
   "provenance": [
    {
     "file_id": "1Hcmqp6pyRQqX0DwTGCOu20bbEWHREjXw",
     "timestamp": 1754678322817
    }
   ],
   "toc_visible": true
  },
  "kernelspec": {
   "display_name": "Python 3",
   "name": "python3"
  },
  "language_info": {
   "name": "python"
  }
 },
 "nbformat": 4,
 "nbformat_minor": 0
}
